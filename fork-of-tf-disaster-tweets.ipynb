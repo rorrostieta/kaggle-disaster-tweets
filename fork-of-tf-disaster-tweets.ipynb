{
 "cells": [
  {
   "cell_type": "markdown",
   "id": "b1cf79b4",
   "metadata": {
    "papermill": {
     "duration": 0.008801,
     "end_time": "2022-09-28T01:47:53.762174",
     "exception": false,
     "start_time": "2022-09-28T01:47:53.753373",
     "status": "completed"
    },
    "tags": []
   },
   "source": [
    "# Disaster Tweets with NLP Kaggle Mini-Project\n",
    "\n",
    "Hello, welcome to this project which is my submission for the Kaggle competition [NLP with Disaster Tweets](https://www.kaggle.com/c/nlp-getting-started/overview). IF you want to see this project you can check the my GitHub repo [rorrostieta/disaster_tweets](https://github.com/rorrostieta/disaster_tweets) for more info on the libraries and the code I used to execute this project within the Kaggle kernel. Lets begin!\n",
    "\n",
    "## The Problem\n",
    "For this competition we're given a train and test dataser which contain the following information:\n",
    "* id\n",
    "* keyword\n",
    "* location\n",
    "* text (tweet)\n",
    "* target (disaster)\n",
    "\n",
    "The objective is to identidy if there is a disaster present where people are base on the words they use whether they're spending their time under te burning hot sun or maybe it is an actual emergency such as a forest fire. We will be using about 7.6K text entries which we need to handle approprietly in order to predict if a disaster is happening or not (this can be identified in the target column with a 0 NO disaster or a 1 there IS/WAS a disaster).\n",
    "\n",
    "## Set up and Exploratory Data Analysis\n",
    "I'll be using a couple sklearn libraries to split the data and evaluate the models made with keras with tensorflow backend, both of these with some well known data preprocessing libraries panda, numpy and matplotlib for visualization."
   ]
  },
  {
   "cell_type": "code",
   "execution_count": 1,
   "id": "89816456",
   "metadata": {
    "execution": {
     "iopub.execute_input": "2022-09-28T01:47:53.779584Z",
     "iopub.status.busy": "2022-09-28T01:47:53.778728Z",
     "iopub.status.idle": "2022-09-28T01:47:59.496672Z",
     "shell.execute_reply": "2022-09-28T01:47:59.495699Z"
    },
    "papermill": {
     "duration": 5.729708,
     "end_time": "2022-09-28T01:47:59.499451",
     "exception": false,
     "start_time": "2022-09-28T01:47:53.769743",
     "status": "completed"
    },
    "tags": []
   },
   "outputs": [],
   "source": [
    "import pandas as pd\n",
    "import numpy as np\n",
    "import matplotlib.pyplot as plt\n",
    "from sklearn.model_selection import train_test_split\n",
    "from sklearn.metrics import accuracy_score\n",
    "\n",
    "import tensorflow as tf\n",
    "from tensorflow.keras import layers\n",
    "from tensorflow.keras.layers import TextVectorization\n",
    "from tensorflow.keras import losses"
   ]
  },
  {
   "cell_type": "markdown",
   "id": "19601f5c",
   "metadata": {
    "papermill": {
     "duration": 0.008029,
     "end_time": "2022-09-28T01:47:59.515419",
     "exception": false,
     "start_time": "2022-09-28T01:47:59.507390",
     "status": "completed"
    },
    "tags": []
   },
   "source": [
    "### Importing the Data"
   ]
  },
  {
   "cell_type": "code",
   "execution_count": 2,
   "id": "daeecae2",
   "metadata": {
    "execution": {
     "iopub.execute_input": "2022-09-28T01:47:59.531643Z",
     "iopub.status.busy": "2022-09-28T01:47:59.531147Z",
     "iopub.status.idle": "2022-09-28T01:47:59.620390Z",
     "shell.execute_reply": "2022-09-28T01:47:59.619350Z"
    },
    "papermill": {
     "duration": 0.100607,
     "end_time": "2022-09-28T01:47:59.623445",
     "exception": false,
     "start_time": "2022-09-28T01:47:59.522838",
     "status": "completed"
    },
    "tags": []
   },
   "outputs": [
    {
     "data": {
      "text/html": [
       "<div>\n",
       "<style scoped>\n",
       "    .dataframe tbody tr th:only-of-type {\n",
       "        vertical-align: middle;\n",
       "    }\n",
       "\n",
       "    .dataframe tbody tr th {\n",
       "        vertical-align: top;\n",
       "    }\n",
       "\n",
       "    .dataframe thead th {\n",
       "        text-align: right;\n",
       "    }\n",
       "</style>\n",
       "<table border=\"1\" class=\"dataframe\">\n",
       "  <thead>\n",
       "    <tr style=\"text-align: right;\">\n",
       "      <th></th>\n",
       "      <th>id</th>\n",
       "      <th>keyword</th>\n",
       "      <th>location</th>\n",
       "      <th>text</th>\n",
       "      <th>target</th>\n",
       "    </tr>\n",
       "  </thead>\n",
       "  <tbody>\n",
       "    <tr>\n",
       "      <th>0</th>\n",
       "      <td>1</td>\n",
       "      <td>NaN</td>\n",
       "      <td>NaN</td>\n",
       "      <td>Our Deeds are the Reason of this #earthquake M...</td>\n",
       "      <td>1</td>\n",
       "    </tr>\n",
       "    <tr>\n",
       "      <th>1</th>\n",
       "      <td>4</td>\n",
       "      <td>NaN</td>\n",
       "      <td>NaN</td>\n",
       "      <td>Forest fire near La Ronge Sask. Canada</td>\n",
       "      <td>1</td>\n",
       "    </tr>\n",
       "    <tr>\n",
       "      <th>2</th>\n",
       "      <td>5</td>\n",
       "      <td>NaN</td>\n",
       "      <td>NaN</td>\n",
       "      <td>All residents asked to 'shelter in place' are ...</td>\n",
       "      <td>1</td>\n",
       "    </tr>\n",
       "    <tr>\n",
       "      <th>3</th>\n",
       "      <td>6</td>\n",
       "      <td>NaN</td>\n",
       "      <td>NaN</td>\n",
       "      <td>13,000 people receive #wildfires evacuation or...</td>\n",
       "      <td>1</td>\n",
       "    </tr>\n",
       "    <tr>\n",
       "      <th>4</th>\n",
       "      <td>7</td>\n",
       "      <td>NaN</td>\n",
       "      <td>NaN</td>\n",
       "      <td>Just got sent this photo from Ruby #Alaska as ...</td>\n",
       "      <td>1</td>\n",
       "    </tr>\n",
       "  </tbody>\n",
       "</table>\n",
       "</div>"
      ],
      "text/plain": [
       "   id keyword location                                               text  \\\n",
       "0   1     NaN      NaN  Our Deeds are the Reason of this #earthquake M...   \n",
       "1   4     NaN      NaN             Forest fire near La Ronge Sask. Canada   \n",
       "2   5     NaN      NaN  All residents asked to 'shelter in place' are ...   \n",
       "3   6     NaN      NaN  13,000 people receive #wildfires evacuation or...   \n",
       "4   7     NaN      NaN  Just got sent this photo from Ruby #Alaska as ...   \n",
       "\n",
       "   target  \n",
       "0       1  \n",
       "1       1  \n",
       "2       1  \n",
       "3       1  \n",
       "4       1  "
      ]
     },
     "execution_count": 2,
     "metadata": {},
     "output_type": "execute_result"
    }
   ],
   "source": [
    "train_data = pd.read_csv('../input/nlp-getting-started/train.csv')\n",
    "test_data = pd.read_csv('../input/nlp-getting-started/test.csv')\n",
    "train_data.head()"
   ]
  },
  {
   "cell_type": "code",
   "execution_count": 3,
   "id": "647385e0",
   "metadata": {
    "execution": {
     "iopub.execute_input": "2022-09-28T01:47:59.641514Z",
     "iopub.status.busy": "2022-09-28T01:47:59.640730Z",
     "iopub.status.idle": "2022-09-28T01:47:59.651517Z",
     "shell.execute_reply": "2022-09-28T01:47:59.650675Z"
    },
    "papermill": {
     "duration": 0.022454,
     "end_time": "2022-09-28T01:47:59.653520",
     "exception": false,
     "start_time": "2022-09-28T01:47:59.631066",
     "status": "completed"
    },
    "tags": []
   },
   "outputs": [
    {
     "data": {
      "text/html": [
       "<div>\n",
       "<style scoped>\n",
       "    .dataframe tbody tr th:only-of-type {\n",
       "        vertical-align: middle;\n",
       "    }\n",
       "\n",
       "    .dataframe tbody tr th {\n",
       "        vertical-align: top;\n",
       "    }\n",
       "\n",
       "    .dataframe thead th {\n",
       "        text-align: right;\n",
       "    }\n",
       "</style>\n",
       "<table border=\"1\" class=\"dataframe\">\n",
       "  <thead>\n",
       "    <tr style=\"text-align: right;\">\n",
       "      <th></th>\n",
       "      <th>id</th>\n",
       "      <th>keyword</th>\n",
       "      <th>location</th>\n",
       "      <th>text</th>\n",
       "    </tr>\n",
       "  </thead>\n",
       "  <tbody>\n",
       "    <tr>\n",
       "      <th>0</th>\n",
       "      <td>0</td>\n",
       "      <td>NaN</td>\n",
       "      <td>NaN</td>\n",
       "      <td>Just happened a terrible car crash</td>\n",
       "    </tr>\n",
       "    <tr>\n",
       "      <th>1</th>\n",
       "      <td>2</td>\n",
       "      <td>NaN</td>\n",
       "      <td>NaN</td>\n",
       "      <td>Heard about #earthquake is different cities, s...</td>\n",
       "    </tr>\n",
       "    <tr>\n",
       "      <th>2</th>\n",
       "      <td>3</td>\n",
       "      <td>NaN</td>\n",
       "      <td>NaN</td>\n",
       "      <td>there is a forest fire at spot pond, geese are...</td>\n",
       "    </tr>\n",
       "    <tr>\n",
       "      <th>3</th>\n",
       "      <td>9</td>\n",
       "      <td>NaN</td>\n",
       "      <td>NaN</td>\n",
       "      <td>Apocalypse lighting. #Spokane #wildfires</td>\n",
       "    </tr>\n",
       "    <tr>\n",
       "      <th>4</th>\n",
       "      <td>11</td>\n",
       "      <td>NaN</td>\n",
       "      <td>NaN</td>\n",
       "      <td>Typhoon Soudelor kills 28 in China and Taiwan</td>\n",
       "    </tr>\n",
       "  </tbody>\n",
       "</table>\n",
       "</div>"
      ],
      "text/plain": [
       "   id keyword location                                               text\n",
       "0   0     NaN      NaN                 Just happened a terrible car crash\n",
       "1   2     NaN      NaN  Heard about #earthquake is different cities, s...\n",
       "2   3     NaN      NaN  there is a forest fire at spot pond, geese are...\n",
       "3   9     NaN      NaN           Apocalypse lighting. #Spokane #wildfires\n",
       "4  11     NaN      NaN      Typhoon Soudelor kills 28 in China and Taiwan"
      ]
     },
     "execution_count": 3,
     "metadata": {},
     "output_type": "execute_result"
    }
   ],
   "source": [
    "test_data.head()"
   ]
  },
  {
   "cell_type": "code",
   "execution_count": 4,
   "id": "20bdc499",
   "metadata": {
    "execution": {
     "iopub.execute_input": "2022-09-28T01:47:59.669927Z",
     "iopub.status.busy": "2022-09-28T01:47:59.669662Z",
     "iopub.status.idle": "2022-09-28T01:47:59.680282Z",
     "shell.execute_reply": "2022-09-28T01:47:59.679279Z"
    },
    "papermill": {
     "duration": 0.021118,
     "end_time": "2022-09-28T01:47:59.682302",
     "exception": false,
     "start_time": "2022-09-28T01:47:59.661184",
     "status": "completed"
    },
    "tags": []
   },
   "outputs": [
    {
     "data": {
      "text/plain": [
       "<bound method DataFrame.info of          id keyword location  \\\n",
       "0         1     NaN      NaN   \n",
       "1         4     NaN      NaN   \n",
       "2         5     NaN      NaN   \n",
       "3         6     NaN      NaN   \n",
       "4         7     NaN      NaN   \n",
       "...     ...     ...      ...   \n",
       "7608  10869     NaN      NaN   \n",
       "7609  10870     NaN      NaN   \n",
       "7610  10871     NaN      NaN   \n",
       "7611  10872     NaN      NaN   \n",
       "7612  10873     NaN      NaN   \n",
       "\n",
       "                                                   text  target  \n",
       "0     Our Deeds are the Reason of this #earthquake M...       1  \n",
       "1                Forest fire near La Ronge Sask. Canada       1  \n",
       "2     All residents asked to 'shelter in place' are ...       1  \n",
       "3     13,000 people receive #wildfires evacuation or...       1  \n",
       "4     Just got sent this photo from Ruby #Alaska as ...       1  \n",
       "...                                                 ...     ...  \n",
       "7608  Two giant cranes holding a bridge collapse int...       1  \n",
       "7609  @aria_ahrary @TheTawniest The out of control w...       1  \n",
       "7610  M1.94 [01:04 UTC]?5km S of Volcano Hawaii. htt...       1  \n",
       "7611  Police investigating after an e-bike collided ...       1  \n",
       "7612  The Latest: More Homes Razed by Northern Calif...       1  \n",
       "\n",
       "[7613 rows x 5 columns]>"
      ]
     },
     "execution_count": 4,
     "metadata": {},
     "output_type": "execute_result"
    }
   ],
   "source": [
    "train_data.info"
   ]
  },
  {
   "cell_type": "markdown",
   "id": "4a5ffba3",
   "metadata": {
    "papermill": {
     "duration": 0.007545,
     "end_time": "2022-09-28T01:47:59.697586",
     "exception": false,
     "start_time": "2022-09-28T01:47:59.690041",
     "status": "completed"
    },
    "tags": []
   },
   "source": [
    "From the first looks we see we have 5 columns where `keyword` and `location` have some missing values we need to look into. Additionally the `text` field has the tweets with their respective hashtags and links which we might need to be careful with.\n",
    "\n",
    "The strategy will be to see how many `keywords` and `locations` we have available. For the `text` side of things lets see the distribution for **number of words** and the **number of characters** these might be useful for our text analysis later."
   ]
  },
  {
   "cell_type": "code",
   "execution_count": 5,
   "id": "5523f715",
   "metadata": {
    "execution": {
     "iopub.execute_input": "2022-09-28T01:47:59.714251Z",
     "iopub.status.busy": "2022-09-28T01:47:59.713972Z",
     "iopub.status.idle": "2022-09-28T01:47:59.723864Z",
     "shell.execute_reply": "2022-09-28T01:47:59.722945Z"
    },
    "papermill": {
     "duration": 0.021243,
     "end_time": "2022-09-28T01:47:59.726610",
     "exception": false,
     "start_time": "2022-09-28T01:47:59.705367",
     "status": "completed"
    },
    "tags": []
   },
   "outputs": [
    {
     "name": "stdout",
     "output_type": "stream",
     "text": [
      "Number of unique keywords: 222\n",
      "Number of unique locations: 3342\n"
     ]
    }
   ],
   "source": [
    "print('Number of unique keywords:',len(train_data['keyword'].unique()))\n",
    "print('Number of unique locations:',len(train_data['location'].unique()))"
   ]
  },
  {
   "cell_type": "code",
   "execution_count": 6,
   "id": "7e93070a",
   "metadata": {
    "execution": {
     "iopub.execute_input": "2022-09-28T01:47:59.744820Z",
     "iopub.status.busy": "2022-09-28T01:47:59.744065Z",
     "iopub.status.idle": "2022-09-28T01:48:00.055916Z",
     "shell.execute_reply": "2022-09-28T01:48:00.055055Z"
    },
    "papermill": {
     "duration": 0.322565,
     "end_time": "2022-09-28T01:48:00.057961",
     "exception": false,
     "start_time": "2022-09-28T01:47:59.735396",
     "status": "completed"
    },
    "tags": []
   },
   "outputs": [
    {
     "data": {
      "text/plain": [
       "array([[<AxesSubplot:title={'center':'keyword'}>,\n",
       "        <AxesSubplot:title={'center':'location'}>]], dtype=object)"
      ]
     },
     "execution_count": 6,
     "metadata": {},
     "output_type": "execute_result"
    },
    {
     "data": {
      "image/png": "[encoded data removed]",
      "text/plain": [
       "<Figure size 432x288 with 2 Axes>"
      ]
     },
     "metadata": {
      "needs_background": "light"
     },
     "output_type": "display_data"
    }
   ],
   "source": [
    "train_data[['keyword', 'location']].notna().astype(int).hist(bins=2)"
   ]
  },
  {
   "cell_type": "code",
   "execution_count": 7,
   "id": "f9fdba64",
   "metadata": {
    "execution": {
     "iopub.execute_input": "2022-09-28T01:48:00.077488Z",
     "iopub.status.busy": "2022-09-28T01:48:00.075468Z",
     "iopub.status.idle": "2022-09-28T01:48:00.474735Z",
     "shell.execute_reply": "2022-09-28T01:48:00.473735Z"
    },
    "papermill": {
     "duration": 0.410601,
     "end_time": "2022-09-28T01:48:00.476911",
     "exception": false,
     "start_time": "2022-09-28T01:48:00.066310",
     "status": "completed"
    },
    "tags": []
   },
   "outputs": [
    {
     "data": {
      "image/png": "[encoded data removed]",
      "text/plain": [
       "<Figure size 432x288 with 1 Axes>"
      ]
     },
     "metadata": {
      "needs_background": "light"
     },
     "output_type": "display_data"
    },
    {
     "data": {
      "image/png": "[encoded data removed]",
      "text/plain": [
       "<Figure size 432x288 with 1 Axes>"
      ]
     },
     "metadata": {
      "needs_background": "light"
     },
     "output_type": "display_data"
    }
   ],
   "source": [
    "train_data['text'].str.split().map(len).hist()\n",
    "plt.show()\n",
    "train_data['text'].map(len).hist()\n",
    "plt.show()"
   ]
  },
  {
   "cell_type": "code",
   "execution_count": 8,
   "id": "a60c754a",
   "metadata": {
    "execution": {
     "iopub.execute_input": "2022-09-28T01:48:00.495672Z",
     "iopub.status.busy": "2022-09-28T01:48:00.495398Z",
     "iopub.status.idle": "2022-09-28T01:48:00.693043Z",
     "shell.execute_reply": "2022-09-28T01:48:00.692068Z"
    },
    "papermill": {
     "duration": 0.209239,
     "end_time": "2022-09-28T01:48:00.694969",
     "exception": false,
     "start_time": "2022-09-28T01:48:00.485730",
     "status": "completed"
    },
    "tags": []
   },
   "outputs": [
    {
     "data": {
      "text/plain": [
       "<AxesSubplot:>"
      ]
     },
     "execution_count": 8,
     "metadata": {},
     "output_type": "execute_result"
    },
    {
     "data": {
      "image/png": "[encoded data removed]",
      "text/plain": [
       "<Figure size 432x288 with 1 Axes>"
      ]
     },
     "metadata": {
      "needs_background": "light"
     },
     "output_type": "display_data"
    }
   ],
   "source": [
    "train_data['target'].hist()"
   ]
  },
  {
   "cell_type": "markdown",
   "id": "2fbf5c92",
   "metadata": {
    "papermill": {
     "duration": 0.00849,
     "end_time": "2022-09-28T01:48:00.712564",
     "exception": false,
     "start_time": "2022-09-28T01:48:00.704074",
     "status": "completed"
    },
    "tags": []
   },
   "source": [
    "### EDA Results\n",
    "* **Dismiss `keywords` and `location`** this becasue we have only around 200s `keywords` which are integrated into the text this might be redundant information which can create bias but the opposite happends with `location` which we have a lot of values almost half of the sample size which could cause problems.\n",
    "* **`Text` entries have no more than 30 words**, knowing this is important since we might need to understand out data source in this case tweets which are limited in nature allowing us to target certain amount of words.\n",
    "* **Good split of Y values** this should be enough to be able to train and validate the model.\n",
    "\n",
    "## Model Architecture\n",
    "For this problem I'll be using the tensoflow tool `TextVectorization` which will allow me to transform the text inputs into tensors. Each tensor will be constructed according to the number of words in the input, each word will be given an \"ID\" which will be stored in the vocabulary that the `TextVectorization` tool will store in order to be able to assign the same value if a word is repeated in a future entry.\n",
    "\n",
    "After this preprocessing step and converting all of our data into tensors I'll be testing two types of models, a simple dense model with a single perceptron and a RNN one using GRU to compare both of them and select which one might be much more useful for this project.\n",
    "\n",
    "### Preprocessing\n",
    "First I'll be using sklearn's `train_test_split` function to create my sets for the training and validation."
   ]
  },
  {
   "cell_type": "code",
   "execution_count": 9,
   "id": "3f36338c",
   "metadata": {
    "execution": {
     "iopub.execute_input": "2022-09-28T01:48:00.731495Z",
     "iopub.status.busy": "2022-09-28T01:48:00.730713Z",
     "iopub.status.idle": "2022-09-28T01:48:00.737779Z",
     "shell.execute_reply": "2022-09-28T01:48:00.736958Z"
    },
    "papermill": {
     "duration": 0.018627,
     "end_time": "2022-09-28T01:48:00.739867",
     "exception": false,
     "start_time": "2022-09-28T01:48:00.721240",
     "status": "completed"
    },
    "tags": []
   },
   "outputs": [],
   "source": [
    "tweets = train_data['text'].to_numpy()\n",
    "labels = train_data['target'].to_numpy()\n",
    "tst_tweets = test_data['text']\n",
    "trn_tweets, val_tweets, trn_labels, val_labels = train_test_split(tweets, labels, test_size=0.2, random_state=42, shuffle=True)"
   ]
  },
  {
   "cell_type": "markdown",
   "id": "963e8dcc",
   "metadata": {
    "papermill": {
     "duration": 0.008476,
     "end_time": "2022-09-28T01:48:00.757014",
     "exception": false,
     "start_time": "2022-09-28T01:48:00.748538",
     "status": "completed"
    },
    "tags": []
   },
   "source": [
    "Here I'm going to create a `TextVectorization` layer, in this case within the layer I'll be able to pass certain input which will be transformed into the tensor to feed the NN. Within this layer I have two hyperparameters, the `sequence_length` (number of words) and the `max_features` (vocabulary), these can be ajusted accordingly to really capture the dataset I'll be using.\n",
    "\n",
    "* If my `max_features` is too low it might right having a couple unknown entries within my tensors whereast if it is too big we might not need that many features in the model.\n",
    "* If `sequence_length` is changed we might not be able to retrieve the whole length of the sentence and if it is too long I might have a bad reading of a short entry.\n",
    "* The `TextVectorization` layer has some tool to help us clean up the text, in this case the `standardize` parameter can be helpful to remove hashtags, links, and symbols from the tweets making this task trivial.\n",
    "\n",
    "After I have set up my layer I adapt my training inputs for it to create the vocabulary."
   ]
  },
  {
   "cell_type": "code",
   "execution_count": 10,
   "id": "5e37042f",
   "metadata": {
    "execution": {
     "iopub.execute_input": "2022-09-28T01:48:00.775925Z",
     "iopub.status.busy": "2022-09-28T01:48:00.775098Z",
     "iopub.status.idle": "2022-09-28T01:48:03.362803Z",
     "shell.execute_reply": "2022-09-28T01:48:03.360848Z"
    },
    "papermill": {
     "duration": 2.599262,
     "end_time": "2022-09-28T01:48:03.364932",
     "exception": false,
     "start_time": "2022-09-28T01:48:00.765670",
     "status": "completed"
    },
    "tags": []
   },
   "outputs": [
    {
     "name": "stderr",
     "output_type": "stream",
     "text": [
      "2022-09-28 01:48:00.858496: I tensorflow/stream_executor/cuda/cuda_gpu_executor.cc:937] successful NUMA node read from SysFS had negative value (-1), but there must be at least one NUMA node, so returning NUMA node zero\n",
      "2022-09-28 01:48:00.949320: I tensorflow/stream_executor/cuda/cuda_gpu_executor.cc:937] successful NUMA node read from SysFS had negative value (-1), but there must be at least one NUMA node, so returning NUMA node zero\n",
      "2022-09-28 01:48:00.950100: I tensorflow/stream_executor/cuda/cuda_gpu_executor.cc:937] successful NUMA node read from SysFS had negative value (-1), but there must be at least one NUMA node, so returning NUMA node zero\n",
      "2022-09-28 01:48:00.951233: I tensorflow/core/platform/cpu_feature_guard.cc:142] This TensorFlow binary is optimized with oneAPI Deep Neural Network Library (oneDNN) to use the following CPU instructions in performance-critical operations:  AVX2 AVX512F FMA\n",
      "To enable them in other operations, rebuild TensorFlow with the appropriate compiler flags.\n",
      "2022-09-28 01:48:00.951560: I tensorflow/stream_executor/cuda/cuda_gpu_executor.cc:937] successful NUMA node read from SysFS had negative value (-1), but there must be at least one NUMA node, so returning NUMA node zero\n",
      "2022-09-28 01:48:00.952266: I tensorflow/stream_executor/cuda/cuda_gpu_executor.cc:937] successful NUMA node read from SysFS had negative value (-1), but there must be at least one NUMA node, so returning NUMA node zero\n",
      "2022-09-28 01:48:00.952897: I tensorflow/stream_executor/cuda/cuda_gpu_executor.cc:937] successful NUMA node read from SysFS had negative value (-1), but there must be at least one NUMA node, so returning NUMA node zero\n",
      "2022-09-28 01:48:02.997691: I tensorflow/stream_executor/cuda/cuda_gpu_executor.cc:937] successful NUMA node read from SysFS had negative value (-1), but there must be at least one NUMA node, so returning NUMA node zero\n",
      "2022-09-28 01:48:02.998582: I tensorflow/stream_executor/cuda/cuda_gpu_executor.cc:937] successful NUMA node read from SysFS had negative value (-1), but there must be at least one NUMA node, so returning NUMA node zero\n",
      "2022-09-28 01:48:02.999327: I tensorflow/stream_executor/cuda/cuda_gpu_executor.cc:937] successful NUMA node read from SysFS had negative value (-1), but there must be at least one NUMA node, so returning NUMA node zero\n",
      "2022-09-28 01:48:02.999917: I tensorflow/core/common_runtime/gpu/gpu_device.cc:1510] Created device /job:localhost/replica:0/task:0/device:GPU:0 with 15401 MB memory:  -> device: 0, name: Tesla P100-PCIE-16GB, pci bus id: 0000:00:04.0, compute capability: 6.0\n"
     ]
    }
   ],
   "source": [
    "max_features = 20000\n",
    "sequence_length = 50\n",
    "\n",
    "vectorize_layer = TextVectorization(\n",
    "    standardize='lower_and_strip_punctuation',\n",
    "    max_tokens=max_features,\n",
    "    output_mode='int',\n",
    "    output_sequence_length=sequence_length)"
   ]
  },
  {
   "cell_type": "code",
   "execution_count": 11,
   "id": "26714242",
   "metadata": {
    "execution": {
     "iopub.execute_input": "2022-09-28T01:48:03.385778Z",
     "iopub.status.busy": "2022-09-28T01:48:03.384160Z",
     "iopub.status.idle": "2022-09-28T01:48:03.797551Z",
     "shell.execute_reply": "2022-09-28T01:48:03.796568Z"
    },
    "papermill": {
     "duration": 0.425609,
     "end_time": "2022-09-28T01:48:03.799814",
     "exception": false,
     "start_time": "2022-09-28T01:48:03.374205",
     "status": "completed"
    },
    "tags": []
   },
   "outputs": [
    {
     "name": "stderr",
     "output_type": "stream",
     "text": [
      "2022-09-28 01:48:03.450437: I tensorflow/compiler/mlir/mlir_graph_optimization_pass.cc:185] None of the MLIR Optimization Passes are enabled (registered 2)\n"
     ]
    }
   ],
   "source": [
    "vectorize_layer.adapt(trn_tweets)"
   ]
  },
  {
   "cell_type": "markdown",
   "id": "5cab22bb",
   "metadata": {
    "papermill": {
     "duration": 0.008709,
     "end_time": "2022-09-28T01:48:03.817762",
     "exception": false,
     "start_time": "2022-09-28T01:48:03.809053",
     "status": "completed"
    },
    "tags": []
   },
   "source": [
    "#### Example Tweet"
   ]
  },
  {
   "cell_type": "code",
   "execution_count": 12,
   "id": "15beec15",
   "metadata": {
    "execution": {
     "iopub.execute_input": "2022-09-28T01:48:03.838197Z",
     "iopub.status.busy": "2022-09-28T01:48:03.836565Z",
     "iopub.status.idle": "2022-09-28T01:48:03.898945Z",
     "shell.execute_reply": "2022-09-28T01:48:03.897934Z"
    },
    "papermill": {
     "duration": 0.076283,
     "end_time": "2022-09-28T01:48:03.902877",
     "exception": false,
     "start_time": "2022-09-28T01:48:03.826594",
     "status": "completed"
    },
    "tags": []
   },
   "outputs": [
    {
     "name": "stdout",
     "output_type": "stream",
     "text": [
      "Tweet Courageous and honest analysis of need to use Atomic Bomb in 1945. #Hiroshima70 Japanese military refused surrender. https://t.co/VhmtyTptGR\n",
      "Label 1\n",
      "Vectorized Tweet tf.Tensor(\n",
      "[17198     8  4962  2917     6   156     5   438   216   118     4  2377\n",
      "  4973  1177   240  4381  4119 14803     0     0     0     0     0     0\n",
      "     0     0     0     0     0     0     0     0     0     0     0     0\n",
      "     0     0     0     0     0     0     0     0     0     0     0     0\n",
      "     0     0], shape=(50,), dtype=int64)\n"
     ]
    }
   ],
   "source": [
    "first_tweet = trn_tweets[0]\n",
    "first_label = trn_labels[0]\n",
    "print('Tweet', first_tweet)\n",
    "print('Label', first_label)\n",
    "print('Vectorized Tweet', vectorize_layer(trn_tweets[0]))"
   ]
  },
  {
   "cell_type": "code",
   "execution_count": 13,
   "id": "2fc2ef5b",
   "metadata": {
    "execution": {
     "iopub.execute_input": "2022-09-28T01:48:03.925343Z",
     "iopub.status.busy": "2022-09-28T01:48:03.925055Z",
     "iopub.status.idle": "2022-09-28T01:48:04.073666Z",
     "shell.execute_reply": "2022-09-28T01:48:04.072130Z"
    },
    "papermill": {
     "duration": 0.161061,
     "end_time": "2022-09-28T01:48:04.076349",
     "exception": false,
     "start_time": "2022-09-28T01:48:03.915288",
     "status": "completed"
    },
    "tags": []
   },
   "outputs": [
    {
     "name": "stdout",
     "output_type": "stream",
     "text": [
      "Word #17198 --> courageous\n",
      "Word #8 --> and\n",
      "Word #4962 --> honest\n",
      "Total words in training vocabulary: 19422\n"
     ]
    }
   ],
   "source": [
    "print('Word #17198 -->', vectorize_layer.get_vocabulary()[17198])\n",
    "print('Word #8 -->', vectorize_layer.get_vocabulary()[8])\n",
    "print('Word #4962 -->', vectorize_layer.get_vocabulary()[4962])\n",
    "print('Total words in training vocabulary:', len(vectorize_layer.get_vocabulary()))"
   ]
  },
  {
   "cell_type": "markdown",
   "id": "894ea64f",
   "metadata": {
    "papermill": {
     "duration": 0.008913,
     "end_time": "2022-09-28T01:48:04.094809",
     "exception": false,
     "start_time": "2022-09-28T01:48:04.085896",
     "status": "completed"
    },
    "tags": []
   },
   "source": [
    "### The Models\n",
    "\n",
    "Once we knowthat my text vectorization layer is working correctly I'll create the model. First I'll add an additional embedding layer which should help in expressing the large amount different words we have into a low-dimension space.\n",
    "\n",
    "For each of the models I'll be looking into the loss and the accuracy we have for the training and validation sets to select the model which I'm most comfortable with. This is an important step since we might think that complex models might be better but sometimes a quick and simple one might do a good enough job."
   ]
  },
  {
   "cell_type": "code",
   "execution_count": 14,
   "id": "8fbc5b51",
   "metadata": {
    "execution": {
     "iopub.execute_input": "2022-09-28T01:48:04.114180Z",
     "iopub.status.busy": "2022-09-28T01:48:04.113886Z",
     "iopub.status.idle": "2022-09-28T01:48:04.120662Z",
     "shell.execute_reply": "2022-09-28T01:48:04.119646Z"
    },
    "papermill": {
     "duration": 0.019056,
     "end_time": "2022-09-28T01:48:04.122906",
     "exception": false,
     "start_time": "2022-09-28T01:48:04.103850",
     "status": "completed"
    },
    "tags": []
   },
   "outputs": [],
   "source": [
    "embedding_layer = layers.Embedding(\n",
    "    input_dim = max_features,\n",
    "    output_dim=64,\n",
    "    embeddings_initializer='uniform',\n",
    "    input_length=sequence_length,\n",
    "    name='mbedding_1')"
   ]
  },
  {
   "cell_type": "markdown",
   "id": "7237619d",
   "metadata": {
    "papermill": {
     "duration": 0.008892,
     "end_time": "2022-09-28T01:48:04.140963",
     "exception": false,
     "start_time": "2022-09-28T01:48:04.132071",
     "status": "completed"
    },
    "tags": []
   },
   "source": [
    "#### Model 1 (Single Dense Layer)\n",
    "This is a simple dense layer which I'll use to see if a lot more is necesary comparing it to the other GRU method I'll be using. To construct the model I have to create and input layer which is where the tweets will be fed for them to pass through all the other layers in the order below structured.\n",
    "\n",
    "After the model passed through we compile and fit the model with their respective hyperparameters to see the performance and how is the loss and accuracy of the model."
   ]
  },
  {
   "cell_type": "code",
   "execution_count": 15,
   "id": "12793217",
   "metadata": {
    "execution": {
     "iopub.execute_input": "2022-09-28T01:48:04.160041Z",
     "iopub.status.busy": "2022-09-28T01:48:04.159760Z",
     "iopub.status.idle": "2022-09-28T01:48:04.219857Z",
     "shell.execute_reply": "2022-09-28T01:48:04.218720Z"
    },
    "papermill": {
     "duration": 0.072382,
     "end_time": "2022-09-28T01:48:04.222369",
     "exception": false,
     "start_time": "2022-09-28T01:48:04.149987",
     "status": "completed"
    },
    "tags": []
   },
   "outputs": [
    {
     "name": "stdout",
     "output_type": "stream",
     "text": [
      "Model: \"Dense_Model\"\n",
      "_________________________________________________________________\n",
      "Layer (type)                 Output Shape              Param #   \n",
      "=================================================================\n",
      "input_1 (InputLayer)         [(None, 1)]               0         \n",
      "_________________________________________________________________\n",
      "text_vectorization (TextVect (None, 50)                0         \n",
      "_________________________________________________________________\n",
      "mbedding_1 (Embedding)       (None, 50, 64)            1280000   \n",
      "_________________________________________________________________\n",
      "global_average_pooling1d (Gl (None, 64)                0         \n",
      "_________________________________________________________________\n",
      "dense (Dense)                (None, 1)                 65        \n",
      "=================================================================\n",
      "Total params: 1,280,065\n",
      "Trainable params: 1,280,065\n",
      "Non-trainable params: 0\n",
      "_________________________________________________________________\n"
     ]
    }
   ],
   "source": [
    "Is = layers.Input(shape = (1,), dtype = tf.string)\n",
    "L1 = vectorize_layer(Is)\n",
    "L2 = embedding_layer(L1)\n",
    "L3 = layers.GlobalAveragePooling1D()(L2)\n",
    "Os = layers.Dense(1, activation = 'sigmoid')(L3)\n",
    "\n",
    "model = tf.keras.Model(Is, Os, name = 'Dense_Model')\n",
    "model.summary()"
   ]
  },
  {
   "cell_type": "code",
   "execution_count": 16,
   "id": "f51b95f5",
   "metadata": {
    "execution": {
     "iopub.execute_input": "2022-09-28T01:48:04.242474Z",
     "iopub.status.busy": "2022-09-28T01:48:04.241709Z",
     "iopub.status.idle": "2022-09-28T01:48:14.755705Z",
     "shell.execute_reply": "2022-09-28T01:48:14.754966Z"
    },
    "papermill": {
     "duration": 10.525984,
     "end_time": "2022-09-28T01:48:14.757776",
     "exception": false,
     "start_time": "2022-09-28T01:48:04.231792",
     "status": "completed"
    },
    "tags": []
   },
   "outputs": [
    {
     "name": "stdout",
     "output_type": "stream",
     "text": [
      "Epoch 1/10\n",
      "191/191 [==============================] - 2s 5ms/step - loss: 0.6727 - accuracy: 0.5690 - val_loss: 0.6538 - val_accuracy: 0.5758\n",
      "Epoch 2/10\n",
      "191/191 [==============================] - 1s 4ms/step - loss: 0.6158 - accuracy: 0.6791 - val_loss: 0.5936 - val_accuracy: 0.6967\n",
      "Epoch 3/10\n",
      "191/191 [==============================] - 1s 4ms/step - loss: 0.5241 - accuracy: 0.8039 - val_loss: 0.5379 - val_accuracy: 0.7879\n",
      "Epoch 4/10\n",
      "191/191 [==============================] - 1s 4ms/step - loss: 0.4416 - accuracy: 0.8493 - val_loss: 0.4927 - val_accuracy: 0.8017\n",
      "Epoch 5/10\n",
      "191/191 [==============================] - 1s 6ms/step - loss: 0.3779 - accuracy: 0.8708 - val_loss: 0.4713 - val_accuracy: 0.8076\n",
      "Epoch 6/10\n",
      "191/191 [==============================] - 1s 6ms/step - loss: 0.3275 - accuracy: 0.8892 - val_loss: 0.4598 - val_accuracy: 0.8096\n",
      "Epoch 7/10\n",
      "191/191 [==============================] - 1s 5ms/step - loss: 0.2862 - accuracy: 0.9031 - val_loss: 0.4534 - val_accuracy: 0.8030\n",
      "Epoch 8/10\n",
      "191/191 [==============================] - 1s 4ms/step - loss: 0.2506 - accuracy: 0.9187 - val_loss: 0.4512 - val_accuracy: 0.8024\n",
      "Epoch 9/10\n",
      "191/191 [==============================] - 1s 4ms/step - loss: 0.2199 - accuracy: 0.9305 - val_loss: 0.4523 - val_accuracy: 0.8037\n",
      "Epoch 10/10\n",
      "191/191 [==============================] - 1s 4ms/step - loss: 0.1941 - accuracy: 0.9419 - val_loss: 0.4541 - val_accuracy: 0.8096\n"
     ]
    }
   ],
   "source": [
    "model.compile(\n",
    "    optimizer='adam',\n",
    "    loss='binary_crossentropy',\n",
    "    metrics='accuracy'\n",
    ")\n",
    "history = model.fit(\n",
    "    x=trn_tweets,\n",
    "    y=trn_labels,\n",
    "    epochs=10,\n",
    "    validation_data=(val_tweets, val_labels)\n",
    ")"
   ]
  },
  {
   "cell_type": "code",
   "execution_count": 17,
   "id": "54d88f70",
   "metadata": {
    "execution": {
     "iopub.execute_input": "2022-09-28T01:48:14.794440Z",
     "iopub.status.busy": "2022-09-28T01:48:14.793810Z",
     "iopub.status.idle": "2022-09-28T01:48:14.957572Z",
     "shell.execute_reply": "2022-09-28T01:48:14.956674Z"
    },
    "papermill": {
     "duration": 0.184067,
     "end_time": "2022-09-28T01:48:14.959589",
     "exception": false,
     "start_time": "2022-09-28T01:48:14.775522",
     "status": "completed"
    },
    "tags": []
   },
   "outputs": [
    {
     "name": "stdout",
     "output_type": "stream",
     "text": [
      "48/48 [==============================] - 0s 2ms/step - loss: 0.4541 - accuracy: 0.8096\n"
     ]
    },
    {
     "data": {
      "text/plain": [
       "[0.4541429579257965, 0.8095863461494446]"
      ]
     },
     "execution_count": 17,
     "metadata": {},
     "output_type": "execute_result"
    }
   ],
   "source": [
    "model.evaluate(val_tweets, val_labels)"
   ]
  },
  {
   "cell_type": "code",
   "execution_count": 18,
   "id": "5a0388fb",
   "metadata": {
    "execution": {
     "iopub.execute_input": "2022-09-28T01:48:14.995512Z",
     "iopub.status.busy": "2022-09-28T01:48:14.995224Z",
     "iopub.status.idle": "2022-09-28T01:48:15.203333Z",
     "shell.execute_reply": "2022-09-28T01:48:15.202453Z"
    },
    "papermill": {
     "duration": 0.228206,
     "end_time": "2022-09-28T01:48:15.205300",
     "exception": false,
     "start_time": "2022-09-28T01:48:14.977094",
     "status": "completed"
    },
    "tags": []
   },
   "outputs": [
    {
     "name": "stdout",
     "output_type": "stream",
     "text": [
      "[0. 0. 0. 0. 0. 0. 0. 0. 0. 1.]\n"
     ]
    },
    {
     "data": {
      "text/plain": [
       "0.8095863427445831"
      ]
     },
     "execution_count": 18,
     "metadata": {},
     "output_type": "execute_result"
    }
   ],
   "source": [
    "predictions = model.predict(val_tweets)\n",
    "predictions = np.round(predictions).flatten()\n",
    "print(predictions[:10])\n",
    "accuracy_score(y_true=val_labels, y_pred=predictions)"
   ]
  },
  {
   "cell_type": "code",
   "execution_count": 19,
   "id": "4a56d826",
   "metadata": {
    "execution": {
     "iopub.execute_input": "2022-09-28T01:48:15.241919Z",
     "iopub.status.busy": "2022-09-28T01:48:15.241609Z",
     "iopub.status.idle": "2022-09-28T01:48:15.249557Z",
     "shell.execute_reply": "2022-09-28T01:48:15.248675Z"
    },
    "papermill": {
     "duration": 0.028347,
     "end_time": "2022-09-28T01:48:15.251520",
     "exception": false,
     "start_time": "2022-09-28T01:48:15.223173",
     "status": "completed"
    },
    "tags": []
   },
   "outputs": [
    {
     "data": {
      "text/plain": [
       "dict_keys(['loss', 'accuracy', 'val_loss', 'val_accuracy'])"
      ]
     },
     "execution_count": 19,
     "metadata": {},
     "output_type": "execute_result"
    }
   ],
   "source": [
    "history_dict = history.history\n",
    "history_dict.keys()"
   ]
  },
  {
   "cell_type": "code",
   "execution_count": 20,
   "id": "77960cb6",
   "metadata": {
    "execution": {
     "iopub.execute_input": "2022-09-28T01:48:15.287816Z",
     "iopub.status.busy": "2022-09-28T01:48:15.287032Z",
     "iopub.status.idle": "2022-09-28T01:48:15.479062Z",
     "shell.execute_reply": "2022-09-28T01:48:15.478223Z"
    },
    "papermill": {
     "duration": 0.212156,
     "end_time": "2022-09-28T01:48:15.480961",
     "exception": false,
     "start_time": "2022-09-28T01:48:15.268805",
     "status": "completed"
    },
    "tags": []
   },
   "outputs": [
    {
     "data": {
      "image/png": "[encoded data removed]",
      "text/plain": [
       "<Figure size 432x288 with 1 Axes>"
      ]
     },
     "metadata": {
      "needs_background": "light"
     },
     "output_type": "display_data"
    }
   ],
   "source": [
    "acc = history_dict['accuracy']\n",
    "val_acc = history_dict['val_accuracy']\n",
    "loss = history_dict['loss']\n",
    "val_loss = history_dict['val_loss']\n",
    "\n",
    "epochs = range(1, len(acc) + 1)\n",
    "\n",
    "plt.plot(epochs, loss, 'bo', label='Training loss')\n",
    "plt.plot(epochs, val_loss, 'b', label='Validation loss')\n",
    "plt.title('Training and validation loss')\n",
    "plt.xlabel('Epochs')\n",
    "plt.ylabel('Loss')\n",
    "plt.legend()\n",
    "\n",
    "plt.show()"
   ]
  },
  {
   "cell_type": "code",
   "execution_count": 21,
   "id": "74120975",
   "metadata": {
    "execution": {
     "iopub.execute_input": "2022-09-28T01:48:15.517930Z",
     "iopub.status.busy": "2022-09-28T01:48:15.517664Z",
     "iopub.status.idle": "2022-09-28T01:48:15.714873Z",
     "shell.execute_reply": "2022-09-28T01:48:15.714058Z"
    },
    "papermill": {
     "duration": 0.218028,
     "end_time": "2022-09-28T01:48:15.716860",
     "exception": false,
     "start_time": "2022-09-28T01:48:15.498832",
     "status": "completed"
    },
    "tags": []
   },
   "outputs": [
    {
     "data": {
      "image/png": "[encoded data removed]",
      "text/plain": [
       "<Figure size 432x288 with 1 Axes>"
      ]
     },
     "metadata": {
      "needs_background": "light"
     },
     "output_type": "display_data"
    }
   ],
   "source": [
    "plt.plot(epochs, acc, 'bo', label='Training acc')\n",
    "plt.plot(epochs, val_acc, 'b', label='Validation acc')\n",
    "plt.title('Training and Accuracy')\n",
    "plt.xlabel('Epochs')\n",
    "plt.ylabel('Accuracy')\n",
    "plt.legend()\n",
    "\n",
    "plt.show()"
   ]
  },
  {
   "cell_type": "markdown",
   "id": "fad0e35c",
   "metadata": {
    "papermill": {
     "duration": 0.017576,
     "end_time": "2022-09-28T01:48:15.752520",
     "exception": false,
     "start_time": "2022-09-28T01:48:15.734944",
     "status": "completed"
    },
    "tags": []
   },
   "source": [
    "#### Model 2 (GRU)\n",
    "\n",
    "For this model I'll add a couple of layers using GRU, with tensorflow this is quire simple since we add them like previously but ensuring we have the return sequences set as I have designed."
   ]
  },
  {
   "cell_type": "code",
   "execution_count": 22,
   "id": "9db75b38",
   "metadata": {
    "execution": {
     "iopub.execute_input": "2022-09-28T01:48:15.789437Z",
     "iopub.status.busy": "2022-09-28T01:48:15.788904Z",
     "iopub.status.idle": "2022-09-28T01:48:16.178328Z",
     "shell.execute_reply": "2022-09-28T01:48:16.177250Z"
    },
    "papermill": {
     "duration": 0.410548,
     "end_time": "2022-09-28T01:48:16.180830",
     "exception": false,
     "start_time": "2022-09-28T01:48:15.770282",
     "status": "completed"
    },
    "tags": []
   },
   "outputs": [
    {
     "name": "stdout",
     "output_type": "stream",
     "text": [
      "Model: \"GRU_Model\"\n",
      "_________________________________________________________________\n",
      "Layer (type)                 Output Shape              Param #   \n",
      "=================================================================\n",
      "input_2 (InputLayer)         [(None, 1)]               0         \n",
      "_________________________________________________________________\n",
      "text_vectorization (TextVect (None, 50)                0         \n",
      "_________________________________________________________________\n",
      "mbedding_1 (Embedding)       (None, 50, 64)            1280000   \n",
      "_________________________________________________________________\n",
      "gru (GRU)                    (None, 50, 32)            9408      \n",
      "_________________________________________________________________\n",
      "gru_1 (GRU)                  (None, 32)                6336      \n",
      "_________________________________________________________________\n",
      "dense_1 (Dense)              (None, 1)                 33        \n",
      "=================================================================\n",
      "Total params: 1,295,777\n",
      "Trainable params: 1,295,777\n",
      "Non-trainable params: 0\n",
      "_________________________________________________________________\n"
     ]
    }
   ],
   "source": [
    "Is = layers.Input(shape = (1,), dtype = tf.string)\n",
    "L1 = vectorize_layer(Is)\n",
    "L2 = embedding_layer(L1)\n",
    "L3 = layers.GRU(32,return_sequences=True)(L2)\n",
    "L4 = layers.GRU(32)(L3)\n",
    "Os = layers.Dense(1, activation = 'sigmoid')(L4)\n",
    "\n",
    "model_2 = tf.keras.Model(Is, Os, name = 'GRU_Model')\n",
    "model_2.summary()"
   ]
  },
  {
   "cell_type": "code",
   "execution_count": 23,
   "id": "70d8961e",
   "metadata": {
    "execution": {
     "iopub.execute_input": "2022-09-28T01:48:16.219260Z",
     "iopub.status.busy": "2022-09-28T01:48:16.218936Z",
     "iopub.status.idle": "2022-09-28T01:48:36.518902Z",
     "shell.execute_reply": "2022-09-28T01:48:36.517944Z"
    },
    "papermill": {
     "duration": 20.32131,
     "end_time": "2022-09-28T01:48:36.521073",
     "exception": false,
     "start_time": "2022-09-28T01:48:16.199763",
     "status": "completed"
    },
    "tags": []
   },
   "outputs": [
    {
     "name": "stdout",
     "output_type": "stream",
     "text": [
      "Epoch 1/10\n"
     ]
    },
    {
     "name": "stderr",
     "output_type": "stream",
     "text": [
      "2022-09-28 01:48:19.497132: I tensorflow/stream_executor/cuda/cuda_dnn.cc:369] Loaded cuDNN version 8005\n"
     ]
    },
    {
     "name": "stdout",
     "output_type": "stream",
     "text": [
      "191/191 [==============================] - 6s 12ms/step - loss: 0.6847 - accuracy: 0.5695 - val_loss: 0.6824 - val_accuracy: 0.5739\n",
      "Epoch 2/10\n",
      "191/191 [==============================] - 2s 8ms/step - loss: 0.6841 - accuracy: 0.5695 - val_loss: 0.6826 - val_accuracy: 0.5739\n",
      "Epoch 3/10\n",
      "191/191 [==============================] - 2s 8ms/step - loss: 0.4675 - accuracy: 0.7593 - val_loss: 0.7618 - val_accuracy: 0.7360\n",
      "Epoch 4/10\n",
      "191/191 [==============================] - 2s 8ms/step - loss: 0.2326 - accuracy: 0.9125 - val_loss: 0.6437 - val_accuracy: 0.7787\n",
      "Epoch 5/10\n",
      "191/191 [==============================] - 2s 8ms/step - loss: 0.1030 - accuracy: 0.9657 - val_loss: 0.7296 - val_accuracy: 0.7768\n",
      "Epoch 6/10\n",
      "191/191 [==============================] - 2s 8ms/step - loss: 0.0638 - accuracy: 0.9811 - val_loss: 0.8583 - val_accuracy: 0.7603\n",
      "Epoch 7/10\n",
      "191/191 [==============================] - 2s 9ms/step - loss: 0.0410 - accuracy: 0.9888 - val_loss: 0.8146 - val_accuracy: 0.7702\n",
      "Epoch 8/10\n",
      "191/191 [==============================] - 2s 8ms/step - loss: 0.0300 - accuracy: 0.9928 - val_loss: 0.8789 - val_accuracy: 0.7728\n",
      "Epoch 9/10\n",
      "191/191 [==============================] - 2s 8ms/step - loss: 0.0232 - accuracy: 0.9944 - val_loss: 0.9196 - val_accuracy: 0.7623\n",
      "Epoch 10/10\n",
      "191/191 [==============================] - 2s 8ms/step - loss: 0.0181 - accuracy: 0.9957 - val_loss: 1.2128 - val_accuracy: 0.7472\n"
     ]
    }
   ],
   "source": [
    "model_2.compile(\n",
    "    optimizer='adam',\n",
    "    loss='binary_crossentropy',\n",
    "    metrics='accuracy'\n",
    ")\n",
    "history_2 = model_2.fit(\n",
    "    x=trn_tweets,\n",
    "    y=trn_labels,\n",
    "    epochs=10,\n",
    "    validation_data=(val_tweets, val_labels)\n",
    ")"
   ]
  },
  {
   "cell_type": "code",
   "execution_count": 24,
   "id": "2d557297",
   "metadata": {
    "execution": {
     "iopub.execute_input": "2022-09-28T01:48:36.589123Z",
     "iopub.status.busy": "2022-09-28T01:48:36.588264Z",
     "iopub.status.idle": "2022-09-28T01:48:36.839888Z",
     "shell.execute_reply": "2022-09-28T01:48:36.838926Z"
    },
    "papermill": {
     "duration": 0.287523,
     "end_time": "2022-09-28T01:48:36.842166",
     "exception": false,
     "start_time": "2022-09-28T01:48:36.554643",
     "status": "completed"
    },
    "tags": []
   },
   "outputs": [
    {
     "name": "stdout",
     "output_type": "stream",
     "text": [
      "48/48 [==============================] - 0s 4ms/step - loss: 1.2128 - accuracy: 0.7472\n"
     ]
    },
    {
     "data": {
      "text/plain": [
       "[1.212761402130127, 0.7472094297409058]"
      ]
     },
     "execution_count": 24,
     "metadata": {},
     "output_type": "execute_result"
    }
   ],
   "source": [
    "model_2.evaluate(val_tweets, val_labels)"
   ]
  },
  {
   "cell_type": "code",
   "execution_count": 25,
   "id": "45f5c3f2",
   "metadata": {
    "execution": {
     "iopub.execute_input": "2022-09-28T01:48:36.907449Z",
     "iopub.status.busy": "2022-09-28T01:48:36.906751Z",
     "iopub.status.idle": "2022-09-28T01:48:37.586932Z",
     "shell.execute_reply": "2022-09-28T01:48:37.585953Z"
    },
    "papermill": {
     "duration": 0.715052,
     "end_time": "2022-09-28T01:48:37.589209",
     "exception": false,
     "start_time": "2022-09-28T01:48:36.874157",
     "status": "completed"
    },
    "tags": []
   },
   "outputs": [
    {
     "name": "stdout",
     "output_type": "stream",
     "text": [
      "[0. 0. 1. 0. 1. 1. 0. 1. 0. 1.]\n"
     ]
    },
    {
     "data": {
      "text/plain": [
       "0.747209455022981"
      ]
     },
     "execution_count": 25,
     "metadata": {},
     "output_type": "execute_result"
    }
   ],
   "source": [
    "predictions = model_2.predict(val_tweets)\n",
    "predictions = np.round(predictions).flatten()\n",
    "print(predictions[:10])\n",
    "accuracy_score(y_true=val_labels, y_pred=predictions)"
   ]
  },
  {
   "cell_type": "code",
   "execution_count": 26,
   "id": "f0f7b95e",
   "metadata": {
    "execution": {
     "iopub.execute_input": "2022-09-28T01:48:37.656360Z",
     "iopub.status.busy": "2022-09-28T01:48:37.655964Z",
     "iopub.status.idle": "2022-09-28T01:48:37.662600Z",
     "shell.execute_reply": "2022-09-28T01:48:37.661530Z"
    },
    "papermill": {
     "duration": 0.043559,
     "end_time": "2022-09-28T01:48:37.665894",
     "exception": false,
     "start_time": "2022-09-28T01:48:37.622335",
     "status": "completed"
    },
    "tags": []
   },
   "outputs": [
    {
     "data": {
      "text/plain": [
       "dict_keys(['loss', 'accuracy', 'val_loss', 'val_accuracy'])"
      ]
     },
     "execution_count": 26,
     "metadata": {},
     "output_type": "execute_result"
    }
   ],
   "source": [
    "history_2_dict = history_2.history\n",
    "history_2_dict.keys()"
   ]
  },
  {
   "cell_type": "code",
   "execution_count": 27,
   "id": "62367372",
   "metadata": {
    "execution": {
     "iopub.execute_input": "2022-09-28T01:48:37.732383Z",
     "iopub.status.busy": "2022-09-28T01:48:37.732034Z",
     "iopub.status.idle": "2022-09-28T01:48:37.932239Z",
     "shell.execute_reply": "2022-09-28T01:48:37.931280Z"
    },
    "papermill": {
     "duration": 0.23619,
     "end_time": "2022-09-28T01:48:37.934222",
     "exception": false,
     "start_time": "2022-09-28T01:48:37.698032",
     "status": "completed"
    },
    "tags": []
   },
   "outputs": [
    {
     "data": {
      "image/png": "[encoded data removed]",
      "text/plain": [
       "<Figure size 432x288 with 1 Axes>"
      ]
     },
     "metadata": {
      "needs_background": "light"
     },
     "output_type": "display_data"
    }
   ],
   "source": [
    "acc = history_2_dict['accuracy']\n",
    "val_acc = history_2_dict['val_accuracy']\n",
    "loss = history_2_dict['loss']\n",
    "val_loss = history_2_dict['val_loss']\n",
    "\n",
    "epochs = range(1, len(acc) + 1)\n",
    "\n",
    "plt.plot(epochs, loss, 'bo', label='Training loss')\n",
    "plt.plot(epochs, val_loss, 'b', label='Validation loss')\n",
    "plt.title('Training and validation loss')\n",
    "plt.xlabel('Epochs')\n",
    "plt.ylabel('Loss')\n",
    "plt.legend()\n",
    "\n",
    "plt.show()"
   ]
  },
  {
   "cell_type": "code",
   "execution_count": 28,
   "id": "ad0b2e00",
   "metadata": {
    "execution": {
     "iopub.execute_input": "2022-09-28T01:48:38.001323Z",
     "iopub.status.busy": "2022-09-28T01:48:38.000280Z",
     "iopub.status.idle": "2022-09-28T01:48:38.194920Z",
     "shell.execute_reply": "2022-09-28T01:48:38.193991Z"
    },
    "papermill": {
     "duration": 0.230371,
     "end_time": "2022-09-28T01:48:38.197111",
     "exception": false,
     "start_time": "2022-09-28T01:48:37.966740",
     "status": "completed"
    },
    "tags": []
   },
   "outputs": [
    {
     "data": {
      "image/png": "[encoded data removed]",
      "text/plain": [
       "<Figure size 432x288 with 1 Axes>"
      ]
     },
     "metadata": {
      "needs_background": "light"
     },
     "output_type": "display_data"
    }
   ],
   "source": [
    "plt.plot(epochs, acc, 'bo', label='Training acc')\n",
    "plt.plot(epochs, val_acc, 'b', label='Validation acc')\n",
    "plt.title('Training and Accuracy')\n",
    "plt.xlabel('Epochs')\n",
    "plt.ylabel('Accuracy')\n",
    "plt.legend()\n",
    "\n",
    "plt.show()"
   ]
  },
  {
   "cell_type": "markdown",
   "id": "fb62f202",
   "metadata": {
    "papermill": {
     "duration": 0.03253,
     "end_time": "2022-09-28T01:48:38.262971",
     "exception": false,
     "start_time": "2022-09-28T01:48:38.230441",
     "status": "completed"
    },
    "tags": []
   },
   "source": [
    "## Results and Analysis\n",
    "Looking into the outputs of both models we can see how around 3-5 epochs the validation plateaus, at least for the loss and accuracy of the first model. The GRU model seems to quickly overfit the training data drastically heavily impacting the validation part. Both of the models are aroung an accuracy of 0.80~ but for the moment I feel much more confident on the simpler model to deliver a better result than a more complex one in this case.\n",
    "\n",
    "|model|trn acc|val acc|trn loss|val loss|\n",
    "|-----|-------|-------|--------|--------|\n",
    "|Dense|0.9419 |0.8096 |0.1941  |0.4541  |\n",
    "|GRU  |0.9957 |0.7472 |0.0181  |1.2128  |\n",
    "\n",
    "In this case more hyperparameters and architecture work might be required to run a better GRU model since this one seems to heavily overfit on the training data but for the sake of the project I'll make a decision at this point and choose the single layer dense model.\n",
    "## Submission"
   ]
  },
  {
   "cell_type": "code",
   "execution_count": 29,
   "id": "0c6fb152",
   "metadata": {
    "execution": {
     "iopub.execute_input": "2022-09-28T01:48:38.329919Z",
     "iopub.status.busy": "2022-09-28T01:48:38.329552Z",
     "iopub.status.idle": "2022-09-28T01:48:38.544305Z",
     "shell.execute_reply": "2022-09-28T01:48:38.543338Z"
    },
    "papermill": {
     "duration": 0.250794,
     "end_time": "2022-09-28T01:48:38.546309",
     "exception": false,
     "start_time": "2022-09-28T01:48:38.295515",
     "status": "completed"
    },
    "tags": []
   },
   "outputs": [
    {
     "name": "stdout",
     "output_type": "stream",
     "text": [
      "[1 1 1 1 1 1 0 0 0 0]\n"
     ]
    }
   ],
   "source": [
    "submission = pd.read_csv('../input/nlp-getting-started/sample_submission.csv')\n",
    "\n",
    "tst_predictions = model.predict(tst_tweets)\n",
    "tst_predictions = np.round(tst_predictions).flatten().astype(int)\n",
    "print(tst_predictions[:10])"
   ]
  },
  {
   "cell_type": "code",
   "execution_count": 30,
   "id": "430b8d06",
   "metadata": {
    "execution": {
     "iopub.execute_input": "2022-09-28T01:48:38.613268Z",
     "iopub.status.busy": "2022-09-28T01:48:38.612477Z",
     "iopub.status.idle": "2022-09-28T01:48:38.617559Z",
     "shell.execute_reply": "2022-09-28T01:48:38.616609Z"
    },
    "papermill": {
     "duration": 0.040453,
     "end_time": "2022-09-28T01:48:38.619480",
     "exception": false,
     "start_time": "2022-09-28T01:48:38.579027",
     "status": "completed"
    },
    "tags": []
   },
   "outputs": [],
   "source": [
    "submission['target'] = tst_predictions"
   ]
  },
  {
   "cell_type": "code",
   "execution_count": 31,
   "id": "cdf8f9ec",
   "metadata": {
    "execution": {
     "iopub.execute_input": "2022-09-28T01:48:38.685123Z",
     "iopub.status.busy": "2022-09-28T01:48:38.684830Z",
     "iopub.status.idle": "2022-09-28T01:48:38.694403Z",
     "shell.execute_reply": "2022-09-28T01:48:38.693547Z"
    },
    "papermill": {
     "duration": 0.044583,
     "end_time": "2022-09-28T01:48:38.696304",
     "exception": false,
     "start_time": "2022-09-28T01:48:38.651721",
     "status": "completed"
    },
    "tags": []
   },
   "outputs": [],
   "source": [
    "submission.to_csv('submission.csv', index=False)"
   ]
  },
  {
   "cell_type": "markdown",
   "id": "8b930ff1",
   "metadata": {
    "papermill": {
     "duration": 0.032127,
     "end_time": "2022-09-28T01:48:38.761906",
     "exception": false,
     "start_time": "2022-09-28T01:48:38.729779",
     "status": "completed"
    },
    "tags": []
   },
   "source": [
    "## Conclusion\n",
    "NLP is really a great topic to work with because there are a lot of different approaches in every step of the project, like what text preprocessing technique to use, the models, features, layers, architectures, etc. This competition is a great example to test small text processing but could be used on larger datasets like scientific papers, customer reviews, books, etc. to classify them into multiple categories and generate more insights from them.\n",
    "\n",
    "One other thing that was super important to understand is the architecture one uses to execute the models, many companies and organizations have developed models which are available to try via transfer learning and combining certain aspects of them can be useful for one's work. For the moment I wanted to try something by myself but wouldn't discard the usage of BERT like many other competitors have done in order to obtain a better accuracy overall.\n",
    "\n",
    "Thank you for taking the time to read this project.\n",
    "\n",
    "## Sources\n",
    "* Tensorflow - Basic text classification (https://www.tensorflow.org/tutorials/keras/text_classification#create_the_model)\n",
    "* Tensorflow - Text Vectorizacion (https://www.tensorflow.org/api_docs/python/tf/keras/layers/TextVectorization)\n",
    "* Tensorflow - GRU (https://www.tensorflow.org/api_docs/python/tf/keras/layers/GRU)\n"
   ]
  }
 ],
 "metadata": {
  "kernelspec": {
   "display_name": "Python 3.10.6 64-bit",
   "language": "python",
   "name": "python3"
  },
  "language_info": {
   "codemirror_mode": {
    "name": "ipython",
    "version": 3
   },
   "file_extension": ".py",
   "mimetype": "text/x-python",
   "name": "python",
   "nbconvert_exporter": "python",
   "pygments_lexer": "ipython3",
   "version": "3.10.6"
  },
  "papermill": {
   "default_parameters": {},
   "duration": 56.242107,
   "end_time": "2022-09-28T01:48:42.452215",
   "environment_variables": {},
   "exception": null,
   "input_path": "__notebook__.ipynb",
   "output_path": "__notebook__.ipynb",
   "parameters": {},
   "start_time": "2022-09-28T01:47:46.210108",
   "version": "2.3.4"
  },
  "vscode": {
   "interpreter": {
    "hash": "fa5e5e9a487e2dd76c7ea7823608b3e5576beb764152fabbf69ac7563ac3923b"
   }
  }
 },
 "nbformat": 4,
 "nbformat_minor": 5
}
